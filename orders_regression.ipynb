{
 "cells": [
  {
   "cell_type": "markdown",
   "metadata": {},
   "source": [
    "# Orders - Multivariate Regression of  the `review_score`"
   ]
  },
  {
   "cell_type": "code",
   "execution_count": null,
   "metadata": {},
   "outputs": [],
   "source": [
    "%load_ext autoreload\n",
    "%autoreload 2"
   ]
  },
  {
   "cell_type": "code",
   "execution_count": null,
   "metadata": {},
   "outputs": [],
   "source": [
    "# Import modules\n",
    "import pandas as pd\n",
    "import numpy as np\n",
    "import seaborn as sns\n",
    "import matplotlib.pyplot as plt"
   ]
  },
  {
   "cell_type": "markdown",
   "metadata": {},
   "source": [
    "⚠️ Before you proceed:\n",
    "* 💾 Download the solution for the previous unit's Orders challenge\n",
    "* 👥 Copy-paste the content of `order_solution.py` into your `olist/order.py` file"
   ]
  },
  {
   "cell_type": "markdown",
   "metadata": {},
   "source": [
    "⚠️ Don't forget to also commit the code changes in `order.py` in your `olist` repo!"
   ]
  },
  {
   "cell_type": "markdown",
   "metadata": {},
   "source": [
    "👇 First things first, import the `orders` dataset"
   ]
  },
  {
   "cell_type": "code",
   "execution_count": null,
   "metadata": {},
   "outputs": [],
   "source": [
    "from olist.order import Order\n",
    "orders = Order().get_training_data(with_distance_seller_customer=True)"
   ]
  },
  {
   "cell_type": "markdown",
   "metadata": {},
   "source": [
    "Let's recall our previous analysis:\n",
    "\n",
    "Based on our correlation matrix down below 👇, we can notice that `review_score` is mostly correlated with  two features : `wait_time` and `delay_vs_expected`. However, these two features are also highly correlated with each other. \n",
    "\n",
    "In this exercise, we will use `statsmodels` to distinguish the effect of one feature, **holding the other features constant**."
   ]
  },
  {
   "cell_type": "code",
   "execution_count": null,
   "metadata": {},
   "outputs": [],
   "source": [
    "plt.figure(figsize = (10, 10))\n",
    "\n",
    "sns.heatmap(\n",
    "    orders.corr(numeric_only=True),\n",
    "    cmap='coolwarm',\n",
    "    annot=True,\n",
    "    annot_kws={\"size\": 10}\n",
    ");"
   ]
  },
  {
   "cell_type": "markdown",
   "metadata": {},
   "source": [
    "## 1 - Univariate regression"
   ]
  },
  {
   "cell_type": "markdown",
   "metadata": {},
   "source": [
    "❓Use [statsmodels](https://www.statsmodels.org/stable/generated/statsmodels.formula.api.ols.html) with `statsmodels.formula.api` to quickly make\n",
    " - `model1`: an ols regression of `review_score` over `wait_time`\n",
    " - `model2`: an ols regression of `review_score` over `delay_vs_expected`\n",
    "\n",
    "For each, print the `summary` table and interpret the results:\n",
    "- Make sure to understand how these results match those of the seaborn regplot\n",
    "- Read the regression performance metric `R-squared`, as well as `individual regression coefficients`, `t-values`, `p-values`, and `95% confidence intervals`"
   ]
  },
  {
   "cell_type": "markdown",
   "metadata": {},
   "source": [
    "***Model 1***:"
   ]
  },
  {
   "cell_type": "code",
   "execution_count": null,
   "metadata": {
    "tags": [
     "challengify"
    ]
   },
   "outputs": [],
   "source": [
    "# YOUR CODE HERE"
   ]
  },
  {
   "cell_type": "markdown",
   "metadata": {},
   "source": [
    "***Model 2***:"
   ]
  },
  {
   "cell_type": "code",
   "execution_count": null,
   "metadata": {
    "tags": [
     "challengify"
    ]
   },
   "outputs": [],
   "source": [
    "# YOUR CODE HERE"
   ]
  },
  {
   "cell_type": "markdown",
   "metadata": {},
   "source": [
    "## 2 - Multivariate regression"
   ]
  },
  {
   "cell_type": "markdown",
   "metadata": {},
   "source": [
    "❓ What is the impact on `review_score` of adding one day of `delay_vs_expected` to the order, **holding `wait_time` constant**? Which of the two features is the most explicative for the low `review_score`?\n",
    "\n",
    "For that purpose, run an OLS model `model3` where both `wait_time` and `delay_vs_expected` are the features (independent variables), and `review_score` is the target (dependent variable)"
   ]
  },
  {
   "cell_type": "markdown",
   "metadata": {},
   "source": [
    "***Model 3***:"
   ]
  },
  {
   "cell_type": "code",
   "execution_count": null,
   "metadata": {
    "tags": [
     "challengify"
    ]
   },
   "outputs": [],
   "source": [
    "# YOUR CODE HERE"
   ]
  },
  {
   "cell_type": "markdown",
   "metadata": {},
   "source": [
    "----\n",
    "👉 Our multivariate regression allows us to isolate the impact of one feature, while controlling the effect of other features. These new coefficients are called **`partial correlation coefficients`**. \n",
    "\n",
    "❓Can you notice the difference with the **simple regression** coefficients computed with *seaborn* above? \n",
    "\n",
    "❓What can you say about the relative slopes for `wait_time` and `delay_vs_expected`? \n"
   ]
  },
  {
   "cell_type": "markdown",
   "metadata": {
    "tags": [
     "challengify"
    ]
   },
   "source": [
    "> YOUR ANSWER HERE"
   ]
  },
  {
   "cell_type": "markdown",
   "metadata": {},
   "source": [
    "<details>\n",
    "    <summary>- 💡 Solution 💡-</summary>\n",
    "\n",
    "- Holding `wait_time` constant, each additional day of `delay` reduces the review_score on average by 0.0205 [0.023 - 0.018] points\n",
    "- Holding `delay` constant, each additional day of `wait_time` reduces the review_score on average by 0.0383 [0.039 - 0.037] points\n",
    "\n",
    "Contrary to what was found with the simple bivariate correlation analysis, `delay` is actually less impactful than `wait_time` in driving lower `review_score`! This interesting finding demonstrates the importance of multi-variate regression to remove the potential impact of confounding factors"
   ]
  },
  {
   "cell_type": "markdown",
   "metadata": {},
   "source": [
    "---\n",
    "❌ R-squared is quite low: no more than 12% of the variations of review_score is explained by the combined variations of `wait_time` and `delay_vs_expected`. \n",
    "\n",
    "✅ Let's try to add more features to our regression to improve the explainability of the linear regression.\n",
    "\n",
    "👉 Create a new OLS `model4` with more features from the `orders` dataset.\n",
    "- ⚠️ Do not create **data leaks**: do not add features that are directly derived from the `review_score`\n",
    "- ⚠️ Do not add two features that are perfectly correlated with each other\n",
    "- ⚖️  Transform each feature $X_i$ into its respective z-score $Z_i = \\frac{X_i - \\mu_i}{\\sigma_i}$ to be able to compare the partial regression coefficients $\\beta_i$ together. Otherwise, the $\\beta_i$ won't be in the same dimension, meaning you'll be comparing apples (e.g. \"review_stars per day\") with oranges (e.g. \"review_stars per BRL\")!"
   ]
  },
  {
   "cell_type": "markdown",
   "metadata": {},
   "source": [
    "📝 <u>Note</u>: a **`Multivariate Linear Regression`** is also called an **`Ordinary Least Squares`** method because in this model, we want to minimise the **`MSE Mean Squared Errors`**"
   ]
  },
  {
   "cell_type": "markdown",
   "metadata": {},
   "source": [
    "***Model 4***:"
   ]
  },
  {
   "cell_type": "markdown",
   "metadata": {},
   "source": [
    "❓ What features would you like to consider ?"
   ]
  },
  {
   "cell_type": "code",
   "execution_count": null,
   "metadata": {
    "tags": [
     "challengify"
    ]
   },
   "outputs": [],
   "source": [
    "# YOUR CODE HERE"
   ]
  },
  {
   "cell_type": "markdown",
   "metadata": {},
   "source": [
    "⚖️ Standardize your features.\n",
    "\n",
    "*Do you remember why we need to perform this operation before running a `Multivariate regression` ?*\n",
    "\n",
    "<details>\n",
    "    <summary>- 💡 Answer 💡-</summary>\n",
    "\n",
    "👉 In a `multivariate linear regression`, we are trying to measure the impact of each feature on the target. \n",
    "    \n",
    "⚠️ Because of scale effects, some features will wrongly be seen as more important than others \n",
    "    \n",
    "    *Ex: if you have a feature \"number of bedrooms\" from 1 to 5 and a feature \"surface\" from 20 to 200 sqm, the ranges of these two features are quite different...*\n",
    "\n",
    "📅 When we will discover Machine Learning Algorithms, we will also need to perform some scaling operations before trying to predict any target."
   ]
  },
  {
   "cell_type": "code",
   "execution_count": null,
   "metadata": {
    "tags": [
     "challengify"
    ]
   },
   "outputs": [],
   "source": [
    "# YOUR CODE HERE"
   ]
  },
  {
   "cell_type": "markdown",
   "metadata": {},
   "source": [
    "👉 Create your `model4` and train it."
   ]
  },
  {
   "cell_type": "code",
   "execution_count": null,
   "metadata": {
    "tags": [
     "challengify"
    ]
   },
   "outputs": [],
   "source": [
    "# YOUR CODE HERE"
   ]
  },
  {
   "cell_type": "markdown",
   "metadata": {},
   "source": [
    "---\n",
    "❓ What are the most important features? (make a bar chart with `.plot(kind='barh')` to visualize them well)\n",
    "- How has the overall regression performance changed?\n",
    "- Is this regression statistically significant?"
   ]
  },
  {
   "cell_type": "code",
   "execution_count": null,
   "metadata": {
    "tags": [
     "challengify"
    ]
   },
   "outputs": [],
   "source": [
    "# YOUR CODE HERE"
   ]
  },
  {
   "cell_type": "markdown",
   "metadata": {},
   "source": [
    "<details>\n",
    "    <summary>- 💡Explanations 💡 -</summary>\n",
    "    \n",
    "\n",
    "- `wait_time` is the biggest explanatory variable\n",
    "- The more `items` and `sellers` there are for a single order, the lower the `review_score` seems to be\n",
    "- Distance also plays a role in customers' satisfaction.\n",
    "- Depending on your choice of feature, you may not be able to conclude anything about `price` and `freight_value` if their p-values are too high\n",
    "    \n",
    "- Overall, this multivariate regression remains statistically significant, because its F-statistics are much greater than 1 (at least one feature has a very low p-value)\n",
    "\n",
    "- R-squared hasn't increased by much. Most of the explainability of `review_score` lies outside of the orders dataset.\n",
    "\n",
    "⚠️ A low R-squared is common when the number of observations (n) is much higher than the number of features (p). Relevant insights can still be derived from such regressions, provided they are statistically significant.\n",
    "</details>\n",
    "\n"
   ]
  },
  {
   "cell_type": "markdown",
   "metadata": {},
   "source": [
    "## 3 - Check model performance"
   ]
  },
  {
   "cell_type": "markdown",
   "metadata": {},
   "source": [
    "⚠️ Regression performance should not be measured only by its R-squared!  \n",
    "\n",
    "👀 Always visualize the distribution of the predictions, and especially the residuals.\n",
    "\n",
    "❓ Compute the residuals.\n",
    "\n",
    "You should see that the mean of the residuals is equal to 0 (always verify this when performing a linear regression)"
   ]
  },
  {
   "cell_type": "code",
   "execution_count": null,
   "metadata": {
    "tags": [
     "challengify"
    ]
   },
   "outputs": [],
   "source": [
    "# YOUR CODE HERE"
   ]
  },
  {
   "cell_type": "markdown",
   "metadata": {},
   "source": [
    "🧮 Compute the associated RMSE."
   ]
  },
  {
   "cell_type": "code",
   "execution_count": null,
   "metadata": {
    "tags": [
     "challengify"
    ]
   },
   "outputs": [],
   "source": [
    "# YOUR CODE HERE"
   ]
  },
  {
   "cell_type": "markdown",
   "metadata": {},
   "source": [
    "📊 Plot the `residuals` in a histogram."
   ]
  },
  {
   "cell_type": "code",
   "execution_count": null,
   "metadata": {
    "tags": [
     "challengify"
    ]
   },
   "outputs": [],
   "source": [
    "# YOUR CODE HERE"
   ]
  },
  {
   "cell_type": "markdown",
   "metadata": {},
   "source": [
    "❓ Can you guess why the residual distplot has such a strange shape? \n",
    "\n",
    "*Hint:*<br/>\n",
    "👉 Plot, on the same graph, both the distribution of the `review_score` and the distribution of the `predicted_review_score`."
   ]
  },
  {
   "cell_type": "code",
   "execution_count": null,
   "metadata": {
    "tags": [
     "challengify"
    ]
   },
   "outputs": [],
   "source": [
    "# YOUR CODE HERE"
   ]
  },
  {
   "cell_type": "markdown",
   "metadata": {},
   "source": [
    "📈 Actually, in the previous challenge we already plotted a `regression line` of the `review_score` vs. the `delay_vs_expected`.\n",
    "\n",
    "Run the cell below to visualize that plot again:"
   ]
  },
  {
   "cell_type": "code",
   "execution_count": null,
   "metadata": {},
   "outputs": [],
   "source": [
    "sample = orders.sample(10000, random_state=42)\n",
    "plt.figure(figsize=(13,5))\n",
    "plt.suptitle('Regression of review_score, 95% confidence interval')\n",
    "plt.subplot(1,2,1)\n",
    "sns.regplot(x = sample.wait_time, y= sample.review_score, y_jitter=.1, ci=95)\n",
    "plt.xlim(right=70)\n",
    "plt.ylim(bottom=0)\n",
    "\n",
    "plt.subplot(1,2,2)\n",
    "sns.regplot(x = orders.delay_vs_expected, y= orders.review_score, y_jitter=.1, ci=95)\n",
    "plt.xlim(right=70)\n",
    "plt.ylim(bottom=0)"
   ]
  },
  {
   "cell_type": "markdown",
   "metadata": {},
   "source": [
    "☝️ You can see that it is hard to regress the `review_score` of an order vs. its `wait_time` or `delay_vs_expected` because the `review_score` is a discrete number that could also be interpreted as a category: 1 (very bad), 2 (bad), 3 (average), 4 (good), 5 (excellent)."
   ]
  },
  {
   "cell_type": "markdown",
   "metadata": {},
   "source": [
    "📅 In the next unit, you will discover a new model: the `Logistic Regression` which, despite its name, is a `Classification Algorithm` "
   ]
  },
  {
   "cell_type": "markdown",
   "metadata": {},
   "source": [
    "☝️ So in the end, our model is not so great, for two reasons:\n",
    "- First, because we don't have enough features to explain a significant proportion of the review_scores (low R-squared)\n",
    "- Second, because we are trying to fit a \"linear regression\" function to a discrete classification problem"
   ]
  },
  {
   "cell_type": "markdown",
   "metadata": {},
   "source": [
    "💡 So instead on working on individual orders and trying to explain their discrete `review_score` based on the `wait_time`, we will focus our analysis on the sellers' level, aggregating the orders by sellers in the next challenge."
   ]
  },
  {
   "cell_type": "markdown",
   "metadata": {},
   "source": [
    "🏁 Great job! \n",
    "\n",
    "💾 Don't forget to *save*, *commit* and *push* this notebook when you are done!"
   ]
  }
 ],
 "metadata": {
  "kernelspec": {
   "display_name": "Python 3",
   "language": "python",
   "name": "python3"
  }
 },
 "nbformat": 4,
 "nbformat_minor": 4
}
